{
 "cells": [
  {
   "cell_type": "code",
   "execution_count": 5,
   "id": "a500fc4e-1a41-43f9-aed4-97334093ea88",
   "metadata": {},
   "outputs": [],
   "source": [
    "import nltk"
   ]
  },
  {
   "cell_type": "code",
   "execution_count": 1,
   "id": "d7953fe1-243b-46d4-abed-0b8177efb5ea",
   "metadata": {},
   "outputs": [],
   "source": [
    "paragraph = \"\"\"Narendra Damodardas Modi (Gujarati: [ˈnəɾendɾə dɑmodəɾˈdɑs ˈmodiː] ⓘ; born 17 September 1950)[b] is an Indian politician who has served as the 14th prime minister of India since May 2014. Modi was the chief minister of Gujarat from 2001 to 2014 and is the Member of Parliament (MP) for Varanasi. He is a member of the Bharatiya Janata Party (BJP) and of the Rashtriya Swayamsevak Sangh (RSS), a right wing Hindu nationalist paramilitary volunteer organisation. He is the longest-serving prime minister from outside the Indian National Congress.\n",
    "\n",
    "Modi was born and raised in Vadnagar in northeastern Gujarat, where he completed his secondary education. He was introduced to the RSS at the age of eight. His account of helping his father sell tea at the Vadnagar railway station has not been reliably corroborated. At age 18, he was married to Jashodaben Modi, whom he abandoned soon after, only publicly acknowledging her four decades later when legally required to do so. Modi became a full-time worker for the RSS in Gujarat in 1971. The RSS assigned him to the BJP in 1985 and he held several positions within the party hierarchy until 2001, rising to the rank of general secretary.[c]\"\"\""
   ]
  },
  {
   "cell_type": "code",
   "execution_count": null,
   "id": "ed255657-2c38-43d4-b445-6208bab3cc4b",
   "metadata": {},
   "outputs": [],
   "source": [
    "\n"
   ]
  },
  {
   "cell_type": "code",
   "execution_count": 2,
   "id": "683a836e-2c08-457c-90d6-5b4582e4628b",
   "metadata": {},
   "outputs": [],
   "source": [
    "from nltk.stem import PorterStemmer\n",
    "from nltk.corpus import stopwords"
   ]
  },
  {
   "cell_type": "code",
   "execution_count": null,
   "id": "38c11937-9b7f-4b81-b564-a068ce783c92",
   "metadata": {},
   "outputs": [],
   "source": []
  },
  {
   "cell_type": "code",
   "execution_count": 6,
   "id": "fe2e2081-11e0-4d7d-9159-6b6d84b00c18",
   "metadata": {},
   "outputs": [
    {
     "name": "stderr",
     "output_type": "stream",
     "text": [
      "[nltk_data] Downloading package punkt to\n",
      "[nltk_data]     C:\\Users\\prajw\\AppData\\Roaming\\nltk_data...\n",
      "[nltk_data]   Package punkt is already up-to-date!\n"
     ]
    },
    {
     "data": {
      "text/plain": [
       "True"
      ]
     },
     "execution_count": 6,
     "metadata": {},
     "output_type": "execute_result"
    }
   ],
   "source": [
    "nltk.download('punkt')"
   ]
  },
  {
   "cell_type": "code",
   "execution_count": 7,
   "id": "6715e55d-4a0b-4c86-afb3-4a2300b0be9d",
   "metadata": {},
   "outputs": [],
   "source": [
    "sentences = nltk.sent_tokenize(paragraph)"
   ]
  },
  {
   "cell_type": "code",
   "execution_count": 8,
   "id": "1860eaff-4291-4789-aa12-3c90a589a12b",
   "metadata": {},
   "outputs": [
    {
     "data": {
      "text/plain": [
       "['Narendra Damodardas Modi (Gujarati: [ˈnəɾendɾə dɑmodəɾˈdɑs ˈmodiː] ⓘ; born 17 September 1950)[b] is an Indian politician who has served as the 14th prime minister of India since May 2014.',\n",
       " 'Modi was the chief minister of Gujarat from 2001 to 2014 and is the Member of Parliament (MP) for Varanasi.',\n",
       " 'He is a member of the Bharatiya Janata Party (BJP) and of the Rashtriya Swayamsevak Sangh (RSS), a right wing Hindu nationalist paramilitary volunteer organisation.',\n",
       " 'He is the longest-serving prime minister from outside the Indian National Congress.',\n",
       " 'Modi was born and raised in Vadnagar in northeastern Gujarat, where he completed his secondary education.',\n",
       " 'He was introduced to the RSS at the age of eight.',\n",
       " 'His account of helping his father sell tea at the Vadnagar railway station has not been reliably corroborated.',\n",
       " 'At age 18, he was married to Jashodaben Modi, whom he abandoned soon after, only publicly acknowledging her four decades later when legally required to do so.',\n",
       " 'Modi became a full-time worker for the RSS in Gujarat in 1971.',\n",
       " 'The RSS assigned him to the BJP in 1985 and he held several positions within the party hierarchy until 2001, rising to the rank of general secretary.',\n",
       " '[c]']"
      ]
     },
     "execution_count": 8,
     "metadata": {},
     "output_type": "execute_result"
    }
   ],
   "source": [
    "sentences"
   ]
  },
  {
   "cell_type": "code",
   "execution_count": null,
   "id": "aacce121-98a7-4c67-843d-678e34feb3eb",
   "metadata": {},
   "outputs": [],
   "source": []
  },
  {
   "cell_type": "code",
   "execution_count": 9,
   "id": "b6bbb99a-a31a-4bbe-a107-5ec21e2d5e48",
   "metadata": {},
   "outputs": [],
   "source": [
    "stemmer = PorterStemmer()"
   ]
  },
  {
   "cell_type": "code",
   "execution_count": 10,
   "id": "6e00fab6-f67e-45fd-a843-5b1bae89a08d",
   "metadata": {},
   "outputs": [
    {
     "data": {
      "text/plain": [
       "'go'"
      ]
     },
     "execution_count": 10,
     "metadata": {},
     "output_type": "execute_result"
    }
   ],
   "source": [
    "stemmer.stem('going')"
   ]
  },
  {
   "cell_type": "code",
   "execution_count": 11,
   "id": "122d454a-3435-4818-9ed5-d250ee191b63",
   "metadata": {},
   "outputs": [
    {
     "data": {
      "text/plain": [
       "'think'"
      ]
     },
     "execution_count": 11,
     "metadata": {},
     "output_type": "execute_result"
    }
   ],
   "source": [
    "stemmer.stem(\"thinking\")"
   ]
  },
  {
   "cell_type": "code",
   "execution_count": 12,
   "id": "da68211b-a4e1-4ba7-a403-ed7f30f1d1cf",
   "metadata": {},
   "outputs": [],
   "source": [
    "from nltk.stem import WordNetLemmatizer"
   ]
  },
  {
   "cell_type": "code",
   "execution_count": 13,
   "id": "d7c057f6-f7ec-4c30-b76f-eedbaf366c8e",
   "metadata": {},
   "outputs": [],
   "source": [
    "lemmatizer = WordNetLemmatizer()"
   ]
  },
  {
   "cell_type": "code",
   "execution_count": 14,
   "id": "9ed4d5ef-b9bc-4cae-b1e5-23e929a99f6a",
   "metadata": {},
   "outputs": [
    {
     "data": {
      "text/plain": [
       "'going'"
      ]
     },
     "execution_count": 14,
     "metadata": {},
     "output_type": "execute_result"
    }
   ],
   "source": [
    "lemmatizer.lemmatize('going')"
   ]
  },
  {
   "cell_type": "code",
   "execution_count": 15,
   "id": "b33f2181-159b-4cc8-b56e-ce725b41e9c2",
   "metadata": {},
   "outputs": [
    {
     "data": {
      "text/plain": [
       "'admin'"
      ]
     },
     "execution_count": 15,
     "metadata": {},
     "output_type": "execute_result"
    }
   ],
   "source": [
    "lemmatizer.lemmatize(\"admin\")"
   ]
  },
  {
   "cell_type": "code",
   "execution_count": 16,
   "id": "f0dc4b9d-9ef2-424a-97f9-50a101ff8286",
   "metadata": {},
   "outputs": [
    {
     "data": {
      "text/plain": [
       "11"
      ]
     },
     "execution_count": 16,
     "metadata": {},
     "output_type": "execute_result"
    }
   ],
   "source": [
    "len(sentences)"
   ]
  },
  {
   "cell_type": "code",
   "execution_count": 17,
   "id": "ecc27835-9bc7-4c2a-95b8-cc4a84d2e9d1",
   "metadata": {},
   "outputs": [],
   "source": [
    "import re\n",
    "corpus = []\n",
    "for i in range(len(sentences)):\n",
    "    review = re.sub('[^a-zA-Z]', ' ', sentences[i])\n",
    "    review = review.lower()\n",
    "    corpus.append(review)\n",
    "    \n",
    "    "
   ]
  },
  {
   "cell_type": "code",
   "execution_count": 18,
   "id": "77a34009-fec1-4623-9b5d-062eb3b108ed",
   "metadata": {
    "scrolled": true
   },
   "outputs": [
    {
     "data": {
      "text/plain": [
       "['narendra damodardas modi  gujarati    n  end   d mod   d s  modi      born    september       b  is an indian politician who has served as the   th prime minister of india since may      ',\n",
       " 'modi was the chief minister of gujarat from      to      and is the member of parliament  mp  for varanasi ',\n",
       " 'he is a member of the bharatiya janata party  bjp  and of the rashtriya swayamsevak sangh  rss   a right wing hindu nationalist paramilitary volunteer organisation ',\n",
       " 'he is the longest serving prime minister from outside the indian national congress ',\n",
       " 'modi was born and raised in vadnagar in northeastern gujarat  where he completed his secondary education ',\n",
       " 'he was introduced to the rss at the age of eight ',\n",
       " 'his account of helping his father sell tea at the vadnagar railway station has not been reliably corroborated ',\n",
       " 'at age     he was married to jashodaben modi  whom he abandoned soon after  only publicly acknowledging her four decades later when legally required to do so ',\n",
       " 'modi became a full time worker for the rss in gujarat in      ',\n",
       " 'the rss assigned him to the bjp in      and he held several positions within the party hierarchy until       rising to the rank of general secretary ',\n",
       " ' c ']"
      ]
     },
     "execution_count": 18,
     "metadata": {},
     "output_type": "execute_result"
    }
   ],
   "source": [
    "corpus"
   ]
  },
  {
   "cell_type": "code",
   "execution_count": 19,
   "id": "e86adeb8-7852-40e3-9652-51113f29035a",
   "metadata": {},
   "outputs": [
    {
     "data": {
      "text/plain": [
       "'modi was the chief minister of gujarat from      to      and is the member of parliament  mp  for varanasi '"
      ]
     },
     "execution_count": 19,
     "metadata": {},
     "output_type": "execute_result"
    }
   ],
   "source": [
    "corpus[1]"
   ]
  },
  {
   "cell_type": "code",
   "execution_count": 20,
   "id": "b8d239f0-7c53-4c22-8493-e95e01211731",
   "metadata": {
    "scrolled": true
   },
   "outputs": [
    {
     "data": {
      "text/plain": [
       "['narendra damodardas modi  gujarati    n  end   d mod   d s  modi      born    september       b  is an indian politician who has served as the   th prime minister of india since may      ',\n",
       " 'modi was the chief minister of gujarat from      to      and is the member of parliament  mp  for varanasi ',\n",
       " 'he is a member of the bharatiya janata party  bjp  and of the rashtriya swayamsevak sangh  rss   a right wing hindu nationalist paramilitary volunteer organisation ',\n",
       " 'he is the longest serving prime minister from outside the indian national congress ',\n",
       " 'modi was born and raised in vadnagar in northeastern gujarat  where he completed his secondary education ',\n",
       " 'he was introduced to the rss at the age of eight ',\n",
       " 'his account of helping his father sell tea at the vadnagar railway station has not been reliably corroborated ',\n",
       " 'at age     he was married to jashodaben modi  whom he abandoned soon after  only publicly acknowledging her four decades later when legally required to do so ',\n",
       " 'modi became a full time worker for the rss in gujarat in      ',\n",
       " 'the rss assigned him to the bjp in      and he held several positions within the party hierarchy until       rising to the rank of general secretary ',\n",
       " ' c ']"
      ]
     },
     "execution_count": 20,
     "metadata": {},
     "output_type": "execute_result"
    }
   ],
   "source": [
    "corpus"
   ]
  },
  {
   "cell_type": "code",
   "execution_count": 21,
   "id": "64bac342-45d3-4cf1-b101-11baf651a2ff",
   "metadata": {},
   "outputs": [
    {
     "data": {
      "text/plain": [
       "['i',\n",
       " 'me',\n",
       " 'my',\n",
       " 'myself',\n",
       " 'we',\n",
       " 'our',\n",
       " 'ours',\n",
       " 'ourselves',\n",
       " 'you',\n",
       " \"you're\",\n",
       " \"you've\",\n",
       " \"you'll\",\n",
       " \"you'd\",\n",
       " 'your',\n",
       " 'yours',\n",
       " 'yourself',\n",
       " 'yourselves',\n",
       " 'he',\n",
       " 'him',\n",
       " 'his',\n",
       " 'himself',\n",
       " 'she',\n",
       " \"she's\",\n",
       " 'her',\n",
       " 'hers',\n",
       " 'herself',\n",
       " 'it',\n",
       " \"it's\",\n",
       " 'its',\n",
       " 'itself',\n",
       " 'they',\n",
       " 'them',\n",
       " 'their',\n",
       " 'theirs',\n",
       " 'themselves',\n",
       " 'what',\n",
       " 'which',\n",
       " 'who',\n",
       " 'whom',\n",
       " 'this',\n",
       " 'that',\n",
       " \"that'll\",\n",
       " 'these',\n",
       " 'those',\n",
       " 'am',\n",
       " 'is',\n",
       " 'are',\n",
       " 'was',\n",
       " 'were',\n",
       " 'be',\n",
       " 'been',\n",
       " 'being',\n",
       " 'have',\n",
       " 'has',\n",
       " 'had',\n",
       " 'having',\n",
       " 'do',\n",
       " 'does',\n",
       " 'did',\n",
       " 'doing',\n",
       " 'a',\n",
       " 'an',\n",
       " 'the',\n",
       " 'and',\n",
       " 'but',\n",
       " 'if',\n",
       " 'or',\n",
       " 'because',\n",
       " 'as',\n",
       " 'until',\n",
       " 'while',\n",
       " 'of',\n",
       " 'at',\n",
       " 'by',\n",
       " 'for',\n",
       " 'with',\n",
       " 'about',\n",
       " 'against',\n",
       " 'between',\n",
       " 'into',\n",
       " 'through',\n",
       " 'during',\n",
       " 'before',\n",
       " 'after',\n",
       " 'above',\n",
       " 'below',\n",
       " 'to',\n",
       " 'from',\n",
       " 'up',\n",
       " 'down',\n",
       " 'in',\n",
       " 'out',\n",
       " 'on',\n",
       " 'off',\n",
       " 'over',\n",
       " 'under',\n",
       " 'again',\n",
       " 'further',\n",
       " 'then',\n",
       " 'once',\n",
       " 'here',\n",
       " 'there',\n",
       " 'when',\n",
       " 'where',\n",
       " 'why',\n",
       " 'how',\n",
       " 'all',\n",
       " 'any',\n",
       " 'both',\n",
       " 'each',\n",
       " 'few',\n",
       " 'more',\n",
       " 'most',\n",
       " 'other',\n",
       " 'some',\n",
       " 'such',\n",
       " 'no',\n",
       " 'nor',\n",
       " 'not',\n",
       " 'only',\n",
       " 'own',\n",
       " 'same',\n",
       " 'so',\n",
       " 'than',\n",
       " 'too',\n",
       " 'very',\n",
       " 's',\n",
       " 't',\n",
       " 'can',\n",
       " 'will',\n",
       " 'just',\n",
       " 'don',\n",
       " \"don't\",\n",
       " 'should',\n",
       " \"should've\",\n",
       " 'now',\n",
       " 'd',\n",
       " 'll',\n",
       " 'm',\n",
       " 'o',\n",
       " 're',\n",
       " 've',\n",
       " 'y',\n",
       " 'ain',\n",
       " 'aren',\n",
       " \"aren't\",\n",
       " 'couldn',\n",
       " \"couldn't\",\n",
       " 'didn',\n",
       " \"didn't\",\n",
       " 'doesn',\n",
       " \"doesn't\",\n",
       " 'hadn',\n",
       " \"hadn't\",\n",
       " 'hasn',\n",
       " \"hasn't\",\n",
       " 'haven',\n",
       " \"haven't\",\n",
       " 'isn',\n",
       " \"isn't\",\n",
       " 'ma',\n",
       " 'mightn',\n",
       " \"mightn't\",\n",
       " 'mustn',\n",
       " \"mustn't\",\n",
       " 'needn',\n",
       " \"needn't\",\n",
       " 'shan',\n",
       " \"shan't\",\n",
       " 'shouldn',\n",
       " \"shouldn't\",\n",
       " 'wasn',\n",
       " \"wasn't\",\n",
       " 'weren',\n",
       " \"weren't\",\n",
       " 'won',\n",
       " \"won't\",\n",
       " 'wouldn',\n",
       " \"wouldn't\"]"
      ]
     },
     "execution_count": 21,
     "metadata": {},
     "output_type": "execute_result"
    }
   ],
   "source": [
    "stopwords.words('english')"
   ]
  },
  {
   "cell_type": "code",
   "execution_count": 22,
   "id": "1c847ca6-72a8-459b-8888-1c719e5e3a12",
   "metadata": {},
   "outputs": [
    {
     "name": "stdout",
     "output_type": "stream",
     "text": [
      "narendra\n",
      "damodarda\n",
      "modi\n",
      "gujarati\n",
      "n\n",
      "end\n",
      "mod\n",
      "modi\n",
      "born\n",
      "septemb\n",
      "b\n",
      "indian\n",
      "politician\n",
      "serv\n",
      "th\n",
      "prime\n",
      "minist\n",
      "india\n",
      "sinc\n",
      "may\n",
      "modi\n",
      "chief\n",
      "minist\n",
      "gujarat\n",
      "member\n",
      "parliament\n",
      "mp\n",
      "varanasi\n",
      "member\n",
      "bharatiya\n",
      "janata\n",
      "parti\n",
      "bjp\n",
      "rashtriya\n",
      "swayamsevak\n",
      "sangh\n",
      "rss\n",
      "right\n",
      "wing\n",
      "hindu\n",
      "nationalist\n",
      "paramilitari\n",
      "volunt\n",
      "organis\n",
      "longest\n",
      "serv\n",
      "prime\n",
      "minist\n",
      "outsid\n",
      "indian\n",
      "nation\n",
      "congress\n",
      "modi\n",
      "born\n",
      "rais\n",
      "vadnagar\n",
      "northeastern\n",
      "gujarat\n",
      "complet\n",
      "secondari\n",
      "educ\n",
      "introduc\n",
      "rss\n",
      "age\n",
      "eight\n",
      "account\n",
      "help\n",
      "father\n",
      "sell\n",
      "tea\n",
      "vadnagar\n",
      "railway\n",
      "station\n",
      "reliabl\n",
      "corrobor\n",
      "age\n",
      "marri\n",
      "jashodaben\n",
      "modi\n",
      "abandon\n",
      "soon\n",
      "publicli\n",
      "acknowledg\n",
      "four\n",
      "decad\n",
      "later\n",
      "legal\n",
      "requir\n",
      "modi\n",
      "becam\n",
      "full\n",
      "time\n",
      "worker\n",
      "rss\n",
      "gujarat\n",
      "rss\n",
      "assign\n",
      "bjp\n",
      "held\n",
      "sever\n",
      "posit\n",
      "within\n",
      "parti\n",
      "hierarchi\n",
      "rise\n",
      "rank\n",
      "gener\n",
      "secretari\n",
      "c\n"
     ]
    }
   ],
   "source": [
    "#stemming\n",
    "\n",
    "for i in corpus:\n",
    "    words=nltk.word_tokenize(i)\n",
    "    for word in words:\n",
    "        if word not in set(stopwords.words('english')):\n",
    "            print(stemmer.stem(word))"
   ]
  },
  {
   "cell_type": "code",
   "execution_count": 23,
   "id": "5fce1deb-435f-49e7-9cf8-095e5dfefabc",
   "metadata": {},
   "outputs": [
    {
     "name": "stdout",
     "output_type": "stream",
     "text": [
      "narendra\n",
      "damodardas\n",
      "modi\n",
      "gujarati\n",
      "n\n",
      "end\n",
      "mod\n",
      "modi\n",
      "born\n",
      "september\n",
      "b\n",
      "indian\n",
      "politician\n",
      "served\n",
      "th\n",
      "prime\n",
      "minister\n",
      "india\n",
      "since\n",
      "may\n",
      "modi\n",
      "chief\n",
      "minister\n",
      "gujarat\n",
      "member\n",
      "parliament\n",
      "mp\n",
      "varanasi\n",
      "member\n",
      "bharatiya\n",
      "janata\n",
      "party\n",
      "bjp\n",
      "rashtriya\n",
      "swayamsevak\n",
      "sangh\n",
      "r\n",
      "right\n",
      "wing\n",
      "hindu\n",
      "nationalist\n",
      "paramilitary\n",
      "volunteer\n",
      "organisation\n",
      "longest\n",
      "serving\n",
      "prime\n",
      "minister\n",
      "outside\n",
      "indian\n",
      "national\n",
      "congress\n",
      "modi\n",
      "born\n",
      "raised\n",
      "vadnagar\n",
      "northeastern\n",
      "gujarat\n",
      "completed\n",
      "secondary\n",
      "education\n",
      "introduced\n",
      "r\n",
      "age\n",
      "eight\n",
      "account\n",
      "helping\n",
      "father\n",
      "sell\n",
      "tea\n",
      "vadnagar\n",
      "railway\n",
      "station\n",
      "reliably\n",
      "corroborated\n",
      "age\n",
      "married\n",
      "jashodaben\n",
      "modi\n",
      "abandoned\n",
      "soon\n",
      "publicly\n",
      "acknowledging\n",
      "four\n",
      "decade\n",
      "later\n",
      "legally\n",
      "required\n",
      "modi\n",
      "became\n",
      "full\n",
      "time\n",
      "worker\n",
      "r\n",
      "gujarat\n",
      "r\n",
      "assigned\n",
      "bjp\n",
      "held\n",
      "several\n",
      "position\n",
      "within\n",
      "party\n",
      "hierarchy\n",
      "rising\n",
      "rank\n",
      "general\n",
      "secretary\n",
      "c\n"
     ]
    }
   ],
   "source": [
    "for i in corpus:\n",
    "    words=nltk.word_tokenize(i)\n",
    "    for word in words:\n",
    "        if word not in set(stopwords.words('english')):\n",
    "            print(lemmatizer.lemmatize(word))"
   ]
  },
  {
   "cell_type": "code",
   "execution_count": 24,
   "id": "470a2ce2-af63-4a01-8e6d-6f76f5e6931b",
   "metadata": {},
   "outputs": [],
   "source": [
    "from sklearn.feature_extraction.text import CountVectorizer"
   ]
  },
  {
   "cell_type": "code",
   "execution_count": 32,
   "id": "411811de-6478-471b-9c93-9123cd16881f",
   "metadata": {},
   "outputs": [],
   "source": [
    "cv = CountVectorizer(binary=True, ngram_range=(2, 3))"
   ]
  },
  {
   "cell_type": "code",
   "execution_count": 33,
   "id": "6dc6b3e3-3bf2-4d66-bf6e-f920f76751af",
   "metadata": {},
   "outputs": [],
   "source": [
    "X = cv.fit_transform(corpus)"
   ]
  },
  {
   "cell_type": "code",
   "execution_count": 34,
   "id": "51ab75cf-ef90-40bb-bf64-1312f75fa59f",
   "metadata": {},
   "outputs": [
    {
     "data": {
      "text/plain": [
       "{'narendra damodardas': 169,\n",
       " 'damodardas modi': 49,\n",
       " 'modi gujarati': 160,\n",
       " 'gujarati end': 75,\n",
       " 'end mod': 54,\n",
       " 'mod modi': 154,\n",
       " 'modi born': 158,\n",
       " 'born september': 43,\n",
       " 'september is': 241,\n",
       " 'is an': 127,\n",
       " 'an indian': 12,\n",
       " 'indian politician': 123,\n",
       " 'politician who': 204,\n",
       " 'who has': 319,\n",
       " 'has served': 79,\n",
       " 'served as': 243,\n",
       " 'as the': 22,\n",
       " 'the th': 284,\n",
       " 'th prime': 258,\n",
       " 'prime minister': 208,\n",
       " 'minister of': 151,\n",
       " 'of india': 185,\n",
       " 'india since': 119,\n",
       " 'since may': 249,\n",
       " 'narendra damodardas modi': 170,\n",
       " 'damodardas modi gujarati': 50,\n",
       " 'modi gujarati end': 161,\n",
       " 'gujarati end mod': 76,\n",
       " 'end mod modi': 55,\n",
       " 'mod modi born': 155,\n",
       " 'modi born september': 159,\n",
       " 'born september is': 44,\n",
       " 'september is an': 242,\n",
       " 'is an indian': 128,\n",
       " 'an indian politician': 13,\n",
       " 'indian politician who': 124,\n",
       " 'politician who has': 205,\n",
       " 'who has served': 320,\n",
       " 'has served as': 80,\n",
       " 'served as the': 244,\n",
       " 'as the th': 23,\n",
       " 'the th prime': 285,\n",
       " 'th prime minister': 259,\n",
       " 'prime minister of': 210,\n",
       " 'minister of india': 153,\n",
       " 'of india since': 186,\n",
       " 'india since may': 120,\n",
       " 'modi was': 162,\n",
       " 'was the': 313,\n",
       " 'the chief': 266,\n",
       " 'chief minister': 45,\n",
       " 'of gujarat': 181,\n",
       " 'gujarat from': 70,\n",
       " 'from to': 65,\n",
       " 'to and': 290,\n",
       " 'and is': 16,\n",
       " 'is the': 131,\n",
       " 'the member': 272,\n",
       " 'member of': 146,\n",
       " 'of parliament': 187,\n",
       " 'parliament mp': 198,\n",
       " 'mp for': 167,\n",
       " 'for varanasi': 60,\n",
       " 'modi was the': 164,\n",
       " 'was the chief': 314,\n",
       " 'the chief minister': 267,\n",
       " 'chief minister of': 46,\n",
       " 'minister of gujarat': 152,\n",
       " 'of gujarat from': 182,\n",
       " 'gujarat from to': 71,\n",
       " 'from to and': 66,\n",
       " 'to and is': 291,\n",
       " 'and is the': 17,\n",
       " 'is the member': 133,\n",
       " 'the member of': 273,\n",
       " 'member of parliament': 147,\n",
       " 'of parliament mp': 188,\n",
       " 'parliament mp for': 199,\n",
       " 'mp for varanasi': 168,\n",
       " 'he is': 87,\n",
       " 'is member': 129,\n",
       " 'of the': 189,\n",
       " 'the bharatiya': 262,\n",
       " 'bharatiya janata': 35,\n",
       " 'janata party': 134,\n",
       " 'party bjp': 200,\n",
       " 'bjp and': 37,\n",
       " 'and of': 18,\n",
       " 'the rashtriya': 278,\n",
       " 'rashtriya swayamsevak': 219,\n",
       " 'swayamsevak sangh': 254,\n",
       " 'sangh rss': 236,\n",
       " 'rss right': 234,\n",
       " 'right wing': 224,\n",
       " 'wing hindu': 323,\n",
       " 'hindu nationalist': 103,\n",
       " 'nationalist paramilitary': 172,\n",
       " 'paramilitary volunteer': 196,\n",
       " 'volunteer organisation': 306,\n",
       " 'he is member': 88,\n",
       " 'is member of': 130,\n",
       " 'member of the': 148,\n",
       " 'of the bharatiya': 190,\n",
       " 'the bharatiya janata': 263,\n",
       " 'bharatiya janata party': 36,\n",
       " 'janata party bjp': 135,\n",
       " 'party bjp and': 201,\n",
       " 'bjp and of': 38,\n",
       " 'and of the': 19,\n",
       " 'of the rashtriya': 191,\n",
       " 'the rashtriya swayamsevak': 279,\n",
       " 'rashtriya swayamsevak sangh': 220,\n",
       " 'swayamsevak sangh rss': 255,\n",
       " 'sangh rss right': 237,\n",
       " 'rss right wing': 235,\n",
       " 'right wing hindu': 225,\n",
       " 'wing hindu nationalist': 324,\n",
       " 'hindu nationalist paramilitary': 104,\n",
       " 'nationalist paramilitary volunteer': 173,\n",
       " 'paramilitary volunteer organisation': 197,\n",
       " 'the longest': 270,\n",
       " 'longest serving': 142,\n",
       " 'serving prime': 245,\n",
       " 'minister from': 149,\n",
       " 'from outside': 63,\n",
       " 'outside the': 194,\n",
       " 'the indian': 268,\n",
       " 'indian national': 121,\n",
       " 'national congress': 171,\n",
       " 'he is the': 89,\n",
       " 'is the longest': 132,\n",
       " 'the longest serving': 271,\n",
       " 'longest serving prime': 143,\n",
       " 'serving prime minister': 246,\n",
       " 'prime minister from': 209,\n",
       " 'minister from outside': 150,\n",
       " 'from outside the': 64,\n",
       " 'outside the indian': 195,\n",
       " 'the indian national': 269,\n",
       " 'indian national congress': 122,\n",
       " 'was born': 307,\n",
       " 'born and': 41,\n",
       " 'and raised': 20,\n",
       " 'raised in': 215,\n",
       " 'in vadnagar': 117,\n",
       " 'vadnagar in': 302,\n",
       " 'in northeastern': 115,\n",
       " 'northeastern gujarat': 174,\n",
       " 'gujarat where': 73,\n",
       " 'where he': 317,\n",
       " 'he completed': 83,\n",
       " 'completed his': 47,\n",
       " 'his secondary': 109,\n",
       " 'secondary education': 238,\n",
       " 'modi was born': 163,\n",
       " 'was born and': 308,\n",
       " 'born and raised': 42,\n",
       " 'and raised in': 21,\n",
       " 'raised in vadnagar': 216,\n",
       " 'in vadnagar in': 118,\n",
       " 'vadnagar in northeastern': 303,\n",
       " 'in northeastern gujarat': 116,\n",
       " 'northeastern gujarat where': 175,\n",
       " 'gujarat where he': 74,\n",
       " 'where he completed': 318,\n",
       " 'he completed his': 84,\n",
       " 'completed his secondary': 48,\n",
       " 'his secondary education': 110,\n",
       " 'he was': 90,\n",
       " 'was introduced': 309,\n",
       " 'introduced to': 125,\n",
       " 'to the': 296,\n",
       " 'the rss': 280,\n",
       " 'rss at': 230,\n",
       " 'at the': 28,\n",
       " 'the age': 260,\n",
       " 'age of': 10,\n",
       " 'of eight': 178,\n",
       " 'he was introduced': 91,\n",
       " 'was introduced to': 310,\n",
       " 'introduced to the': 126,\n",
       " 'to the rss': 299,\n",
       " 'the rss at': 282,\n",
       " 'rss at the': 231,\n",
       " 'at the age': 29,\n",
       " 'the age of': 261,\n",
       " 'age of eight': 11,\n",
       " 'his account': 105,\n",
       " 'account of': 2,\n",
       " 'of helping': 183,\n",
       " 'helping his': 95,\n",
       " 'his father': 107,\n",
       " 'father sell': 56,\n",
       " 'sell tea': 239,\n",
       " 'tea at': 256,\n",
       " 'the vadnagar': 286,\n",
       " 'vadnagar railway': 304,\n",
       " 'railway station': 213,\n",
       " 'station has': 252,\n",
       " 'has not': 77,\n",
       " 'not been': 176,\n",
       " 'been reliably': 33,\n",
       " 'reliably corroborated': 221,\n",
       " 'his account of': 106,\n",
       " 'account of helping': 3,\n",
       " 'of helping his': 184,\n",
       " 'helping his father': 96,\n",
       " 'his father sell': 108,\n",
       " 'father sell tea': 57,\n",
       " 'sell tea at': 240,\n",
       " 'tea at the': 257,\n",
       " 'at the vadnagar': 30,\n",
       " 'the vadnagar railway': 287,\n",
       " 'vadnagar railway station': 305,\n",
       " 'railway station has': 214,\n",
       " 'station has not': 253,\n",
       " 'has not been': 78,\n",
       " 'not been reliably': 177,\n",
       " 'been reliably corroborated': 34,\n",
       " 'at age': 26,\n",
       " 'age he': 8,\n",
       " 'was married': 311,\n",
       " 'married to': 144,\n",
       " 'to jashodaben': 294,\n",
       " 'jashodaben modi': 136,\n",
       " 'modi whom': 165,\n",
       " 'whom he': 321,\n",
       " 'he abandoned': 81,\n",
       " 'abandoned soon': 0,\n",
       " 'soon after': 250,\n",
       " 'after only': 6,\n",
       " 'only publicly': 192,\n",
       " 'publicly acknowledging': 211,\n",
       " 'acknowledging her': 4,\n",
       " 'her four': 97,\n",
       " 'four decades': 61,\n",
       " 'decades later': 51,\n",
       " 'later when': 138,\n",
       " 'when legally': 315,\n",
       " 'legally required': 140,\n",
       " 'required to': 222,\n",
       " 'to do': 292,\n",
       " 'do so': 53,\n",
       " 'at age he': 27,\n",
       " 'age he was': 9,\n",
       " 'he was married': 92,\n",
       " 'was married to': 312,\n",
       " 'married to jashodaben': 145,\n",
       " 'to jashodaben modi': 295,\n",
       " 'jashodaben modi whom': 137,\n",
       " 'modi whom he': 166,\n",
       " 'whom he abandoned': 322,\n",
       " 'he abandoned soon': 82,\n",
       " 'abandoned soon after': 1,\n",
       " 'soon after only': 251,\n",
       " 'after only publicly': 7,\n",
       " 'only publicly acknowledging': 193,\n",
       " 'publicly acknowledging her': 212,\n",
       " 'acknowledging her four': 5,\n",
       " 'her four decades': 98,\n",
       " 'four decades later': 62,\n",
       " 'decades later when': 52,\n",
       " 'later when legally': 139,\n",
       " 'when legally required': 316,\n",
       " 'legally required to': 141,\n",
       " 'required to do': 223,\n",
       " 'to do so': 293,\n",
       " 'modi became': 156,\n",
       " 'became full': 31,\n",
       " 'full time': 67,\n",
       " 'time worker': 288,\n",
       " 'worker for': 327,\n",
       " 'for the': 58,\n",
       " 'rss in': 232,\n",
       " 'in gujarat': 113,\n",
       " 'gujarat in': 72,\n",
       " 'modi became full': 157,\n",
       " 'became full time': 32,\n",
       " 'full time worker': 68,\n",
       " 'time worker for': 289,\n",
       " 'worker for the': 328,\n",
       " 'for the rss': 59,\n",
       " 'the rss in': 283,\n",
       " 'rss in gujarat': 233,\n",
       " 'in gujarat in': 114,\n",
       " 'rss assigned': 228,\n",
       " 'assigned him': 24,\n",
       " 'him to': 101,\n",
       " 'the bjp': 264,\n",
       " 'bjp in': 39,\n",
       " 'in and': 111,\n",
       " 'and he': 14,\n",
       " 'he held': 85,\n",
       " 'held several': 93,\n",
       " 'several positions': 247,\n",
       " 'positions within': 206,\n",
       " 'within the': 325,\n",
       " 'the party': 274,\n",
       " 'party hierarchy': 202,\n",
       " 'hierarchy until': 99,\n",
       " 'until rising': 300,\n",
       " 'rising to': 226,\n",
       " 'the rank': 276,\n",
       " 'rank of': 217,\n",
       " 'of general': 179,\n",
       " 'general secretary': 69,\n",
       " 'the rss assigned': 281,\n",
       " 'rss assigned him': 229,\n",
       " 'assigned him to': 25,\n",
       " 'him to the': 102,\n",
       " 'to the bjp': 297,\n",
       " 'the bjp in': 265,\n",
       " 'bjp in and': 40,\n",
       " 'in and he': 112,\n",
       " 'and he held': 15,\n",
       " 'he held several': 86,\n",
       " 'held several positions': 94,\n",
       " 'several positions within': 248,\n",
       " 'positions within the': 207,\n",
       " 'within the party': 326,\n",
       " 'the party hierarchy': 275,\n",
       " 'party hierarchy until': 203,\n",
       " 'hierarchy until rising': 100,\n",
       " 'until rising to': 301,\n",
       " 'rising to the': 227,\n",
       " 'to the rank': 298,\n",
       " 'the rank of': 277,\n",
       " 'rank of general': 218,\n",
       " 'of general secretary': 180}"
      ]
     },
     "execution_count": 34,
     "metadata": {},
     "output_type": "execute_result"
    }
   ],
   "source": [
    "cv.vocabulary_"
   ]
  },
  {
   "cell_type": "code",
   "execution_count": 49,
   "id": "9cacbfca-4ce9-48c1-9a87-d26faebf616e",
   "metadata": {},
   "outputs": [
    {
     "data": {
      "text/plain": [
       "'narendra damodardas modi  gujarati    n  end   d mod   d s  modi      born    september       b  is an indian politician who has served as the   th prime minister of india since may      '"
      ]
     },
     "execution_count": 49,
     "metadata": {},
     "output_type": "execute_result"
    }
   ],
   "source": [
    "corpus[0]"
   ]
  },
  {
   "cell_type": "code",
   "execution_count": 50,
   "id": "839fd366-49da-49de-a1cb-1ec9f9c62315",
   "metadata": {},
   "outputs": [
    {
     "data": {
      "text/plain": [
       "array([[0, 0, 0, 0, 0, 1, 0, 1, 0, 0, 0, 0, 0, 0, 1, 0, 0, 0, 0, 1, 0, 0,\n",
       "        0, 0, 1, 0, 0, 0, 0, 0, 0, 0, 1, 1, 0, 0, 0, 0, 0, 0, 0, 0, 0, 1,\n",
       "        1, 0, 1, 0, 0, 0, 0, 0, 0, 1, 0, 1, 1, 2, 0, 1, 0, 0, 0, 0, 1, 0,\n",
       "        0, 0, 0, 0, 0, 1, 0, 1, 0, 0, 0, 0, 0, 0, 0, 0, 0, 0, 0, 0, 0, 0,\n",
       "        1, 1, 0, 0, 1, 0, 0, 0, 0, 0, 1, 1, 0, 0, 0, 0, 0, 0, 0, 0, 0, 1,\n",
       "        0, 0, 0, 0]], dtype=int64)"
      ]
     },
     "execution_count": 50,
     "metadata": {},
     "output_type": "execute_result"
    }
   ],
   "source": [
    "X[0].toarray()"
   ]
  },
  {
   "cell_type": "code",
   "execution_count": null,
   "id": "7983b545-c58e-40c2-8c11-c797dde7ac33",
   "metadata": {},
   "outputs": [],
   "source": []
  },
  {
   "cell_type": "code",
   "execution_count": 51,
   "id": "ae4e6143-dbac-43e5-a567-f09635b5729c",
   "metadata": {},
   "outputs": [],
   "source": [
    "## apply stopwords, lemmatize\n",
    "corpus = []\n",
    "for i in range(len(sentences)):\n",
    "    review= re.sub('[^a-zA-Z]', ' ', sentences[i])\n",
    "    review = review.lower()\n",
    "    review = review.split()\n",
    "    review = [lemmatizer.lemmatize(word) for word in review if not word in set(stopwords.words('english'))]\n",
    "    review = ' '.join(review)\n",
    "    corpus.append(review)"
   ]
  },
  {
   "cell_type": "code",
   "execution_count": 52,
   "id": "c4d3cdac-59c2-4929-b9b5-ffb2259150fb",
   "metadata": {},
   "outputs": [
    {
     "data": {
      "text/plain": [
       "['narendra damodardas modi gujarati n end mod modi born september b indian politician served th prime minister india since may',\n",
       " 'modi chief minister gujarat member parliament mp varanasi',\n",
       " 'member bharatiya janata party bjp rashtriya swayamsevak sangh r right wing hindu nationalist paramilitary volunteer organisation',\n",
       " 'longest serving prime minister outside indian national congress',\n",
       " 'modi born raised vadnagar northeastern gujarat completed secondary education',\n",
       " 'introduced r age eight',\n",
       " 'account helping father sell tea vadnagar railway station reliably corroborated',\n",
       " 'age married jashodaben modi abandoned soon publicly acknowledging four decade later legally required',\n",
       " 'modi became full time worker r gujarat',\n",
       " 'r assigned bjp held several position within party hierarchy rising rank general secretary',\n",
       " 'c']"
      ]
     },
     "execution_count": 52,
     "metadata": {},
     "output_type": "execute_result"
    }
   ],
   "source": [
    "corpus"
   ]
  },
  {
   "cell_type": "code",
   "execution_count": null,
   "id": "547ad3fd-18c3-41f0-ad0f-91db130962fc",
   "metadata": {},
   "outputs": [],
   "source": []
  },
  {
   "cell_type": "code",
   "execution_count": 35,
   "id": "0025bc28-6fcb-4e1b-94c8-210efc47f6f4",
   "metadata": {},
   "outputs": [],
   "source": [
    "from sklearn.feature_extraction.text import TfidfVectorizer"
   ]
  },
  {
   "cell_type": "code",
   "execution_count": 36,
   "id": "d8b529b3-6e68-4378-b294-105102616f1d",
   "metadata": {},
   "outputs": [],
   "source": [
    "cv = TfidfVectorizer()\n",
    "X = cv.fit_transform(corpus)"
   ]
  },
  {
   "cell_type": "code",
   "execution_count": 38,
   "id": "58e04ab0-8942-417f-b4a0-29c7a1769c83",
   "metadata": {},
   "outputs": [
    {
     "data": {
      "text/plain": [
       "array([[0.        , 0.        , 0.        , 0.        , 0.        ,\n",
       "        0.21859936, 0.        , 0.21859936, 0.        , 0.        ,\n",
       "        0.        , 0.        , 0.        , 0.        , 0.18685078,\n",
       "        0.        , 0.        , 0.        , 0.        , 0.21859936,\n",
       "        0.        , 0.        , 0.        , 0.        , 0.21859936,\n",
       "        0.        , 0.        , 0.        , 0.        , 0.        ,\n",
       "        0.        , 0.        , 0.21859936, 0.18685078, 0.        ,\n",
       "        0.        , 0.        , 0.        , 0.        , 0.        ,\n",
       "        0.        , 0.        , 0.        , 0.21859936, 0.18685078,\n",
       "        0.        , 0.14685229, 0.        , 0.        , 0.        ,\n",
       "        0.        , 0.        , 0.        , 0.21859936, 0.        ,\n",
       "        0.1643248 , 0.21859936, 0.26515242, 0.        , 0.21859936,\n",
       "        0.        , 0.        , 0.        , 0.        , 0.12050596,\n",
       "        0.        , 0.        , 0.        , 0.        , 0.        ,\n",
       "        0.        , 0.21859936, 0.        , 0.18685078, 0.        ,\n",
       "        0.        , 0.        , 0.        , 0.        , 0.        ,\n",
       "        0.        , 0.        , 0.        , 0.        , 0.        ,\n",
       "        0.        , 0.        , 0.        , 0.21859936, 0.21859936,\n",
       "        0.        , 0.        , 0.21859936, 0.        , 0.        ,\n",
       "        0.        , 0.        , 0.        , 0.21859936, 0.10082763,\n",
       "        0.        , 0.        , 0.        , 0.        , 0.        ,\n",
       "        0.        , 0.        , 0.        , 0.        , 0.21859936,\n",
       "        0.        , 0.        , 0.        , 0.        ]])"
      ]
     },
     "execution_count": 38,
     "metadata": {},
     "output_type": "execute_result"
    }
   ],
   "source": [
    "X[0].toarray()"
   ]
  },
  {
   "cell_type": "code",
   "execution_count": null,
   "id": "1f433b55-56a7-4f9a-b44b-a24d9d01ef12",
   "metadata": {},
   "outputs": [],
   "source": []
  },
  {
   "cell_type": "code",
   "execution_count": null,
   "id": "a36fe82d-f0c2-43ee-b58d-a26b18519ded",
   "metadata": {},
   "outputs": [],
   "source": []
  },
  {
   "cell_type": "code",
   "execution_count": null,
   "id": "9351ec0b-afb0-4c79-ab8d-0bdd8ad3aa33",
   "metadata": {},
   "outputs": [],
   "source": []
  },
  {
   "cell_type": "code",
   "execution_count": null,
   "id": "75018e52-2221-424f-9a36-a4d273b93383",
   "metadata": {},
   "outputs": [],
   "source": []
  },
  {
   "cell_type": "code",
   "execution_count": null,
   "id": "6aa3dc69-79f7-46cc-8058-4184625fe631",
   "metadata": {},
   "outputs": [],
   "source": []
  },
  {
   "cell_type": "code",
   "execution_count": null,
   "id": "22b5e4a3-90d7-4f72-87bd-c8bb869cc372",
   "metadata": {},
   "outputs": [],
   "source": []
  },
  {
   "cell_type": "code",
   "execution_count": null,
   "id": "e5c663cd-940e-423d-b467-cebaac2be8d3",
   "metadata": {},
   "outputs": [],
   "source": []
  },
  {
   "cell_type": "code",
   "execution_count": null,
   "id": "e32d1ed5-0536-4db4-aa05-2bb1091c5612",
   "metadata": {},
   "outputs": [],
   "source": []
  },
  {
   "cell_type": "code",
   "execution_count": null,
   "id": "c0432d68-3693-4fdf-9939-9606f289d96c",
   "metadata": {},
   "outputs": [],
   "source": []
  },
  {
   "cell_type": "code",
   "execution_count": null,
   "id": "c29f050d-7e07-4da8-bf2f-efe62017a498",
   "metadata": {},
   "outputs": [],
   "source": []
  },
  {
   "cell_type": "code",
   "execution_count": null,
   "id": "3b75eb66-a9e0-442c-8819-44dfe8e9ed35",
   "metadata": {},
   "outputs": [],
   "source": []
  },
  {
   "cell_type": "code",
   "execution_count": null,
   "id": "b7f04a04-7bc6-46f9-b70d-615dae48e0d1",
   "metadata": {},
   "outputs": [],
   "source": []
  },
  {
   "cell_type": "code",
   "execution_count": null,
   "id": "0c62b88a-441d-477b-8a59-628509f1b099",
   "metadata": {},
   "outputs": [],
   "source": []
  },
  {
   "cell_type": "code",
   "execution_count": null,
   "id": "2e321bf5-e7e4-4bd4-8534-d14c22785349",
   "metadata": {},
   "outputs": [],
   "source": []
  },
  {
   "cell_type": "code",
   "execution_count": null,
   "id": "138d1f72-9ec7-4f9f-843b-3302fb21d56a",
   "metadata": {},
   "outputs": [],
   "source": []
  },
  {
   "cell_type": "code",
   "execution_count": null,
   "id": "ba9b6b57-d2d5-486c-ae53-2eb2eb3fa7a4",
   "metadata": {},
   "outputs": [],
   "source": []
  },
  {
   "cell_type": "code",
   "execution_count": null,
   "id": "0c4d0cc6-2c00-4121-bce8-048a5660352a",
   "metadata": {},
   "outputs": [],
   "source": []
  },
  {
   "cell_type": "code",
   "execution_count": null,
   "id": "0b24dc32-6e36-4d47-8903-ece92bd0626a",
   "metadata": {},
   "outputs": [],
   "source": []
  },
  {
   "cell_type": "code",
   "execution_count": null,
   "id": "6417cb13-ae93-4127-be00-6298248d25c7",
   "metadata": {},
   "outputs": [],
   "source": []
  },
  {
   "cell_type": "code",
   "execution_count": null,
   "id": "4fb386b0-3a16-4351-9680-9d069e7c77c3",
   "metadata": {},
   "outputs": [],
   "source": []
  },
  {
   "cell_type": "code",
   "execution_count": null,
   "id": "c3a6e68f-77fc-4ee3-b07b-2b162986d797",
   "metadata": {},
   "outputs": [],
   "source": []
  },
  {
   "cell_type": "code",
   "execution_count": null,
   "id": "ffa83663-aa54-4004-bcee-0880ead602e9",
   "metadata": {},
   "outputs": [],
   "source": []
  },
  {
   "cell_type": "code",
   "execution_count": null,
   "id": "cbb22f3d-5944-4ece-9e61-42f70e66ce93",
   "metadata": {},
   "outputs": [],
   "source": []
  },
  {
   "cell_type": "code",
   "execution_count": null,
   "id": "95830f4c-ae17-49ff-8b3a-2bb199a89ed8",
   "metadata": {},
   "outputs": [],
   "source": []
  },
  {
   "cell_type": "code",
   "execution_count": null,
   "id": "003a9fe1-db5e-4474-ad84-65df8e9d479f",
   "metadata": {},
   "outputs": [],
   "source": []
  },
  {
   "cell_type": "code",
   "execution_count": null,
   "id": "3ea53d1d-5659-47d0-84ad-e922fff8790b",
   "metadata": {},
   "outputs": [],
   "source": []
  },
  {
   "cell_type": "code",
   "execution_count": null,
   "id": "6b447551-613d-4dbf-af18-8e075ff7d9fe",
   "metadata": {},
   "outputs": [],
   "source": []
  },
  {
   "cell_type": "code",
   "execution_count": null,
   "id": "060190fe-eeb3-4b36-8bff-ff977c39b174",
   "metadata": {},
   "outputs": [],
   "source": []
  },
  {
   "cell_type": "code",
   "execution_count": null,
   "id": "f5dd2774-6392-4e2e-8637-17623278bade",
   "metadata": {},
   "outputs": [],
   "source": []
  },
  {
   "cell_type": "code",
   "execution_count": null,
   "id": "9b7093eb-518c-4b09-8334-0767fbe6329f",
   "metadata": {},
   "outputs": [],
   "source": []
  },
  {
   "cell_type": "code",
   "execution_count": null,
   "id": "b2cc2ac2-cac9-4104-9cc7-84e97ead2aa2",
   "metadata": {},
   "outputs": [],
   "source": []
  },
  {
   "cell_type": "code",
   "execution_count": null,
   "id": "18a35e6e-c792-42cc-9403-af78d10f1f22",
   "metadata": {},
   "outputs": [],
   "source": []
  },
  {
   "cell_type": "code",
   "execution_count": null,
   "id": "14b59bfb-05b0-4815-b757-30d456a3f37f",
   "metadata": {},
   "outputs": [],
   "source": []
  },
  {
   "cell_type": "code",
   "execution_count": null,
   "id": "705b1a67-7502-4619-a67e-af1df44320f5",
   "metadata": {},
   "outputs": [],
   "source": []
  },
  {
   "cell_type": "code",
   "execution_count": null,
   "id": "d01a8b29-53e2-44fc-b10f-aa3a6ed82a44",
   "metadata": {},
   "outputs": [],
   "source": []
  },
  {
   "cell_type": "code",
   "execution_count": null,
   "id": "69dc08a0-9d5c-4043-a35f-f9ba33584ddf",
   "metadata": {},
   "outputs": [],
   "source": []
  },
  {
   "cell_type": "code",
   "execution_count": null,
   "id": "78edf9ec-36f9-4d58-a91d-5628c7e29e89",
   "metadata": {},
   "outputs": [],
   "source": []
  },
  {
   "cell_type": "code",
   "execution_count": null,
   "id": "0b9b2976-67ff-4d8d-b9c7-6a5a5955686e",
   "metadata": {},
   "outputs": [],
   "source": []
  },
  {
   "cell_type": "code",
   "execution_count": null,
   "id": "11f77e03-eb1e-47c8-91a7-21483412b1f1",
   "metadata": {},
   "outputs": [],
   "source": []
  },
  {
   "cell_type": "code",
   "execution_count": null,
   "id": "49407a9d-9689-4b71-a125-703c71ef789d",
   "metadata": {},
   "outputs": [],
   "source": []
  },
  {
   "cell_type": "code",
   "execution_count": null,
   "id": "b2850d36-bf7f-4710-b3f9-edc59b47025b",
   "metadata": {},
   "outputs": [],
   "source": []
  },
  {
   "cell_type": "code",
   "execution_count": null,
   "id": "3e3403b8-ebb2-4d65-9bd2-1b443afc7e01",
   "metadata": {},
   "outputs": [],
   "source": []
  },
  {
   "cell_type": "code",
   "execution_count": null,
   "id": "bb0c72e1-78d4-449d-ba6a-52c9921ffaef",
   "metadata": {},
   "outputs": [],
   "source": []
  },
  {
   "cell_type": "code",
   "execution_count": null,
   "id": "afc55e28-33b8-47d5-bbdc-935c688ffddb",
   "metadata": {},
   "outputs": [],
   "source": []
  },
  {
   "cell_type": "code",
   "execution_count": null,
   "id": "0e562546-d4fd-4573-9ed1-29cf96c1bbe3",
   "metadata": {},
   "outputs": [],
   "source": []
  },
  {
   "cell_type": "code",
   "execution_count": null,
   "id": "21aec3ae-3763-4afb-b923-832a311b5129",
   "metadata": {},
   "outputs": [],
   "source": []
  },
  {
   "cell_type": "code",
   "execution_count": null,
   "id": "f4a18832-868f-4825-960b-c0db9a438837",
   "metadata": {},
   "outputs": [],
   "source": []
  },
  {
   "cell_type": "code",
   "execution_count": null,
   "id": "c980f2f5-ad62-4391-91e1-0a609cdde4de",
   "metadata": {},
   "outputs": [],
   "source": []
  },
  {
   "cell_type": "code",
   "execution_count": null,
   "id": "f1ddf58c-8222-4273-82ff-8e8312fdc984",
   "metadata": {},
   "outputs": [],
   "source": []
  },
  {
   "cell_type": "code",
   "execution_count": null,
   "id": "addfe01f-7e2d-45c6-aeeb-cae768c16bbb",
   "metadata": {},
   "outputs": [],
   "source": []
  }
 ],
 "metadata": {
  "kernelspec": {
   "display_name": "Python 3 (ipykernel)",
   "language": "python",
   "name": "python3"
  },
  "language_info": {
   "codemirror_mode": {
    "name": "ipython",
    "version": 3
   },
   "file_extension": ".py",
   "mimetype": "text/x-python",
   "name": "python",
   "nbconvert_exporter": "python",
   "pygments_lexer": "ipython3",
   "version": "3.10.13"
  }
 },
 "nbformat": 4,
 "nbformat_minor": 5
}
