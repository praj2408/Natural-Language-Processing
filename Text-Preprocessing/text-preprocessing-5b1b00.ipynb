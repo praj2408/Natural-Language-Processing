{
 "cells": [
  {
   "cell_type": "code",
   "execution_count": null,
   "metadata": {
    "_cell_guid": "b1076dfc-b9ad-4769-8c92-a6c4dae69d19",
    "_uuid": "8f2839f25d086af736a60e9eeb907d3b93b6e0e5",
    "execution": {
     "iopub.execute_input": "2021-12-08T21:08:07.122338Z",
     "iopub.status.busy": "2021-12-08T21:08:07.12209Z",
     "iopub.status.idle": "2021-12-08T21:08:07.137918Z",
     "shell.execute_reply": "2021-12-08T21:08:07.137237Z",
     "shell.execute_reply.started": "2021-12-08T21:08:07.122313Z"
    }
   },
   "outputs": [],
   "source": [
    "# This Python 3 environment comes with many helpful analytics libraries installed\n",
    "# It is defined by the kaggle/python Docker image: https://github.com/kaggle/docker-python\n",
    "# For example, here's several helpful packages to load\n",
    "\n",
    "import numpy as np # linear algebra\n",
    "import pandas as pd # data processing, CSV file I/O (e.g. pd.read_csv)\n",
    "\n",
    "# Input data files are available in the read-only \"../input/\" directory\n",
    "# For example, running this (by clicking run or pressing Shift+Enter) will list all files under the input directory\n",
    "\n",
    "import os\n",
    "for dirname, _, filenames in os.walk('/kaggle/input'):\n",
    "    for filename in filenames:\n",
    "        print(os.path.join(dirname, filename))\n",
    "\n",
    "# You can write up to 20GB to the current directory (/kaggle/working/) that gets preserved as output when you create a version using \"Save & Run All\" \n",
    "# You can also write temporary files to /kaggle/temp/, but they won't be saved outside of the current session"
   ]
  },
  {
   "cell_type": "code",
   "execution_count": null,
   "metadata": {
    "execution": {
     "iopub.execute_input": "2021-12-08T21:08:08.71031Z",
     "iopub.status.busy": "2021-12-08T21:08:08.709642Z",
     "iopub.status.idle": "2021-12-08T21:08:10.561228Z",
     "shell.execute_reply": "2021-12-08T21:08:10.560402Z",
     "shell.execute_reply.started": "2021-12-08T21:08:08.710274Z"
    }
   },
   "outputs": [],
   "source": [
    "df = pd.read_csv('/kaggle/input/imdb-dataset-of-50k-movie-reviews/IMDB Dataset.csv')"
   ]
  },
  {
   "cell_type": "code",
   "execution_count": null,
   "metadata": {
    "execution": {
     "iopub.execute_input": "2021-12-08T10:21:20.441483Z",
     "iopub.status.busy": "2021-12-08T10:21:20.441182Z",
     "iopub.status.idle": "2021-12-08T10:21:20.447118Z",
     "shell.execute_reply": "2021-12-08T10:21:20.446333Z",
     "shell.execute_reply.started": "2021-12-08T10:21:20.441438Z"
    }
   },
   "outputs": [],
   "source": [
    "df.shape"
   ]
  },
  {
   "cell_type": "code",
   "execution_count": null,
   "metadata": {
    "execution": {
     "iopub.execute_input": "2021-12-08T10:16:47.977772Z",
     "iopub.status.busy": "2021-12-08T10:16:47.977163Z",
     "iopub.status.idle": "2021-12-08T10:16:47.999836Z",
     "shell.execute_reply": "2021-12-08T10:16:47.999242Z",
     "shell.execute_reply.started": "2021-12-08T10:16:47.977723Z"
    }
   },
   "outputs": [],
   "source": [
    "df.head()"
   ]
  },
  {
   "cell_type": "code",
   "execution_count": null,
   "metadata": {
    "execution": {
     "iopub.execute_input": "2021-12-08T10:21:00.750114Z",
     "iopub.status.busy": "2021-12-08T10:21:00.749847Z",
     "iopub.status.idle": "2021-12-08T10:21:00.758994Z",
     "shell.execute_reply": "2021-12-08T10:21:00.758482Z",
     "shell.execute_reply.started": "2021-12-08T10:21:00.750086Z"
    }
   },
   "outputs": [],
   "source": [
    "df['review'][3].lower()"
   ]
  },
  {
   "cell_type": "code",
   "execution_count": null,
   "metadata": {
    "execution": {
     "iopub.execute_input": "2021-12-08T10:22:00.387349Z",
     "iopub.status.busy": "2021-12-08T10:22:00.387082Z",
     "iopub.status.idle": "2021-12-08T10:22:00.553846Z",
     "shell.execute_reply": "2021-12-08T10:22:00.553067Z",
     "shell.execute_reply.started": "2021-12-08T10:22:00.38732Z"
    }
   },
   "outputs": [],
   "source": [
    "df['review'] = df['review'].str.lower()"
   ]
  },
  {
   "cell_type": "code",
   "execution_count": null,
   "metadata": {
    "execution": {
     "iopub.execute_input": "2021-12-08T10:22:02.664852Z",
     "iopub.status.busy": "2021-12-08T10:22:02.664555Z",
     "iopub.status.idle": "2021-12-08T10:22:02.676716Z",
     "shell.execute_reply": "2021-12-08T10:22:02.675918Z",
     "shell.execute_reply.started": "2021-12-08T10:22:02.664821Z"
    }
   },
   "outputs": [],
   "source": [
    "df"
   ]
  },
  {
   "cell_type": "code",
   "execution_count": null,
   "metadata": {
    "execution": {
     "iopub.execute_input": "2021-12-08T10:37:17.260075Z",
     "iopub.status.busy": "2021-12-08T10:37:17.259698Z",
     "iopub.status.idle": "2021-12-08T10:37:17.265673Z",
     "shell.execute_reply": "2021-12-08T10:37:17.264763Z",
     "shell.execute_reply.started": "2021-12-08T10:37:17.260041Z"
    }
   },
   "outputs": [],
   "source": [
    "import re\n",
    "def remove_html_tags(text):\n",
    "    pattern = re.compile('<.*?>')\n",
    "    return pattern.sub(r'', text)"
   ]
  },
  {
   "cell_type": "code",
   "execution_count": null,
   "metadata": {
    "execution": {
     "iopub.execute_input": "2021-12-08T10:37:39.77982Z",
     "iopub.status.busy": "2021-12-08T10:37:39.779507Z",
     "iopub.status.idle": "2021-12-08T10:37:39.784085Z",
     "shell.execute_reply": "2021-12-08T10:37:39.783217Z",
     "shell.execute_reply.started": "2021-12-08T10:37:39.779785Z"
    }
   },
   "outputs": [],
   "source": [
    "text = \"<html><body><p> Movie 1</p><p> Actor - Aamir Khan</p><p> Click here to <a href='http://google.com'>download</a></p></body></html>\""
   ]
  },
  {
   "cell_type": "code",
   "execution_count": null,
   "metadata": {
    "execution": {
     "iopub.execute_input": "2021-12-08T10:37:48.202652Z",
     "iopub.status.busy": "2021-12-08T10:37:48.202087Z",
     "iopub.status.idle": "2021-12-08T10:37:48.207164Z",
     "shell.execute_reply": "2021-12-08T10:37:48.20662Z",
     "shell.execute_reply.started": "2021-12-08T10:37:48.202617Z"
    }
   },
   "outputs": [],
   "source": [
    "remove_html_tags(text)"
   ]
  },
  {
   "cell_type": "code",
   "execution_count": null,
   "metadata": {
    "execution": {
     "iopub.execute_input": "2021-12-08T10:38:52.024348Z",
     "iopub.status.busy": "2021-12-08T10:38:52.023767Z",
     "iopub.status.idle": "2021-12-08T10:38:52.295961Z",
     "shell.execute_reply": "2021-12-08T10:38:52.29476Z",
     "shell.execute_reply.started": "2021-12-08T10:38:52.024306Z"
    }
   },
   "outputs": [],
   "source": [
    "df['review'] = df['review'].apply(remove_html_tags)"
   ]
  },
  {
   "cell_type": "code",
   "execution_count": null,
   "metadata": {
    "execution": {
     "iopub.execute_input": "2021-12-08T11:30:07.710194Z",
     "iopub.status.busy": "2021-12-08T11:30:07.709923Z",
     "iopub.status.idle": "2021-12-08T11:30:07.715664Z",
     "shell.execute_reply": "2021-12-08T11:30:07.714852Z",
     "shell.execute_reply.started": "2021-12-08T11:30:07.710166Z"
    }
   },
   "outputs": [],
   "source": [
    "df['review'][5]"
   ]
  },
  {
   "cell_type": "code",
   "execution_count": null,
   "metadata": {
    "execution": {
     "iopub.execute_input": "2021-12-08T10:49:34.054005Z",
     "iopub.status.busy": "2021-12-08T10:49:34.053704Z",
     "iopub.status.idle": "2021-12-08T10:49:34.058386Z",
     "shell.execute_reply": "2021-12-08T10:49:34.057762Z",
     "shell.execute_reply.started": "2021-12-08T10:49:34.053975Z"
    }
   },
   "outputs": [],
   "source": [
    "def remove_url(text):\n",
    "    pattern = re.compile(r'https?://\\S+|www\\.\\S+')\n",
    "    return pattern.sub(r'', text)"
   ]
  },
  {
   "cell_type": "code",
   "execution_count": null,
   "metadata": {
    "execution": {
     "iopub.execute_input": "2021-12-08T10:52:29.758289Z",
     "iopub.status.busy": "2021-12-08T10:52:29.757982Z",
     "iopub.status.idle": "2021-12-08T10:52:29.761928Z",
     "shell.execute_reply": "2021-12-08T10:52:29.761454Z",
     "shell.execute_reply.started": "2021-12-08T10:52:29.758254Z"
    }
   },
   "outputs": [],
   "source": [
    "text1 = 'Check out my notebook https://www.kaggle.com/campusx/notebook8223fc1abb'\n",
    "text2 = 'Check out my notebook http://www.kaggle.com/campusx/notebook8223fc1abb'\n",
    "text3 = 'Google search here www.google.com'\n",
    "text4 = 'For notebook click https://www.kaggle.com/campusx/notebook8223fc1abb to search check www.google.com'"
   ]
  },
  {
   "cell_type": "code",
   "execution_count": null,
   "metadata": {
    "execution": {
     "iopub.execute_input": "2021-12-08T10:56:31.400818Z",
     "iopub.status.busy": "2021-12-08T10:56:31.400527Z",
     "iopub.status.idle": "2021-12-08T10:56:31.406438Z",
     "shell.execute_reply": "2021-12-08T10:56:31.405521Z",
     "shell.execute_reply.started": "2021-12-08T10:56:31.400787Z"
    }
   },
   "outputs": [],
   "source": [
    "remove_url(text4)"
   ]
  },
  {
   "cell_type": "code",
   "execution_count": null,
   "metadata": {
    "execution": {
     "iopub.execute_input": "2021-12-08T11:27:27.985243Z",
     "iopub.status.busy": "2021-12-08T11:27:27.984584Z",
     "iopub.status.idle": "2021-12-08T11:27:27.990753Z",
     "shell.execute_reply": "2021-12-08T11:27:27.989969Z",
     "shell.execute_reply.started": "2021-12-08T11:27:27.985189Z"
    }
   },
   "outputs": [],
   "source": [
    "import string,time\n",
    "string.punctuation"
   ]
  },
  {
   "cell_type": "code",
   "execution_count": null,
   "metadata": {
    "execution": {
     "iopub.execute_input": "2021-12-08T11:12:07.074296Z",
     "iopub.status.busy": "2021-12-08T11:12:07.074027Z",
     "iopub.status.idle": "2021-12-08T11:12:07.077901Z",
     "shell.execute_reply": "2021-12-08T11:12:07.077307Z",
     "shell.execute_reply.started": "2021-12-08T11:12:07.074267Z"
    }
   },
   "outputs": [],
   "source": [
    "exclude = string.punctuation"
   ]
  },
  {
   "cell_type": "code",
   "execution_count": null,
   "metadata": {
    "execution": {
     "iopub.execute_input": "2021-12-08T11:14:35.963155Z",
     "iopub.status.busy": "2021-12-08T11:14:35.962877Z",
     "iopub.status.idle": "2021-12-08T11:14:35.967036Z",
     "shell.execute_reply": "2021-12-08T11:14:35.966449Z",
     "shell.execute_reply.started": "2021-12-08T11:14:35.963125Z"
    }
   },
   "outputs": [],
   "source": [
    "def remove_punc(text):\n",
    "    for char in exclude:\n",
    "        text = text.replace(char,'')\n",
    "    return text\n",
    "        "
   ]
  },
  {
   "cell_type": "code",
   "execution_count": null,
   "metadata": {
    "execution": {
     "iopub.execute_input": "2021-12-08T11:25:11.160928Z",
     "iopub.status.busy": "2021-12-08T11:25:11.160622Z",
     "iopub.status.idle": "2021-12-08T11:25:11.16429Z",
     "shell.execute_reply": "2021-12-08T11:25:11.163672Z",
     "shell.execute_reply.started": "2021-12-08T11:25:11.160893Z"
    }
   },
   "outputs": [],
   "source": [
    "text = 'string. With. Punctuation?'"
   ]
  },
  {
   "cell_type": "code",
   "execution_count": null,
   "metadata": {
    "execution": {
     "iopub.execute_input": "2021-12-08T11:47:24.652052Z",
     "iopub.status.busy": "2021-12-08T11:47:24.651733Z",
     "iopub.status.idle": "2021-12-08T11:47:24.658283Z",
     "shell.execute_reply": "2021-12-08T11:47:24.65749Z",
     "shell.execute_reply.started": "2021-12-08T11:47:24.652024Z"
    }
   },
   "outputs": [],
   "source": [
    "start = time.time()\n",
    "print(remove_punc(text))\n",
    "time1 = time.time() - start\n",
    "print(time1*50000)"
   ]
  },
  {
   "cell_type": "code",
   "execution_count": null,
   "metadata": {
    "execution": {
     "iopub.execute_input": "2021-12-08T11:25:58.738621Z",
     "iopub.status.busy": "2021-12-08T11:25:58.738276Z",
     "iopub.status.idle": "2021-12-08T11:25:58.743341Z",
     "shell.execute_reply": "2021-12-08T11:25:58.742445Z",
     "shell.execute_reply.started": "2021-12-08T11:25:58.738573Z"
    }
   },
   "outputs": [],
   "source": [
    "def remove_punc1(text):\n",
    "    return text.translate(str.maketrans('', '', exclude))"
   ]
  },
  {
   "cell_type": "code",
   "execution_count": null,
   "metadata": {
    "execution": {
     "iopub.execute_input": "2021-12-08T11:48:36.142326Z",
     "iopub.status.busy": "2021-12-08T11:48:36.141657Z",
     "iopub.status.idle": "2021-12-08T11:48:36.147256Z",
     "shell.execute_reply": "2021-12-08T11:48:36.14647Z",
     "shell.execute_reply.started": "2021-12-08T11:48:36.142291Z"
    }
   },
   "outputs": [],
   "source": [
    "start = time.time()\n",
    "remove_punc1(text)\n",
    "time2 = time.time() - start\n",
    "print(time2*50000)"
   ]
  },
  {
   "cell_type": "code",
   "execution_count": null,
   "metadata": {
    "execution": {
     "iopub.execute_input": "2021-12-08T11:48:20.76583Z",
     "iopub.status.busy": "2021-12-08T11:48:20.765255Z",
     "iopub.status.idle": "2021-12-08T11:48:20.771101Z",
     "shell.execute_reply": "2021-12-08T11:48:20.770509Z",
     "shell.execute_reply.started": "2021-12-08T11:48:20.765781Z"
    }
   },
   "outputs": [],
   "source": [
    "time1/time2"
   ]
  },
  {
   "cell_type": "code",
   "execution_count": null,
   "metadata": {
    "execution": {
     "iopub.execute_input": "2021-12-08T11:30:35.293558Z",
     "iopub.status.busy": "2021-12-08T11:30:35.292632Z",
     "iopub.status.idle": "2021-12-08T11:30:35.299402Z",
     "shell.execute_reply": "2021-12-08T11:30:35.298461Z",
     "shell.execute_reply.started": "2021-12-08T11:30:35.293506Z"
    }
   },
   "outputs": [],
   "source": [
    "df['review'][5]"
   ]
  },
  {
   "cell_type": "code",
   "execution_count": null,
   "metadata": {
    "execution": {
     "iopub.execute_input": "2021-12-08T11:30:45.940503Z",
     "iopub.status.busy": "2021-12-08T11:30:45.93977Z",
     "iopub.status.idle": "2021-12-08T11:30:45.946977Z",
     "shell.execute_reply": "2021-12-08T11:30:45.946183Z",
     "shell.execute_reply.started": "2021-12-08T11:30:45.94044Z"
    }
   },
   "outputs": [],
   "source": [
    "remove_punc1(df['review'][5])"
   ]
  },
  {
   "cell_type": "code",
   "execution_count": null,
   "metadata": {
    "execution": {
     "iopub.execute_input": "2021-12-08T20:20:03.604596Z",
     "iopub.status.busy": "2021-12-08T20:20:03.604312Z",
     "iopub.status.idle": "2021-12-08T20:20:03.612302Z",
     "shell.execute_reply": "2021-12-08T20:20:03.611428Z",
     "shell.execute_reply.started": "2021-12-08T20:20:03.604568Z"
    }
   },
   "outputs": [],
   "source": [
    "chat_words"
   ]
  },
  {
   "cell_type": "code",
   "execution_count": null,
   "metadata": {
    "execution": {
     "iopub.execute_input": "2021-12-08T20:22:14.393841Z",
     "iopub.status.busy": "2021-12-08T20:22:14.393112Z",
     "iopub.status.idle": "2021-12-08T20:22:14.398492Z",
     "shell.execute_reply": "2021-12-08T20:22:14.397611Z",
     "shell.execute_reply.started": "2021-12-08T20:22:14.393808Z"
    }
   },
   "outputs": [],
   "source": [
    "def chat_conversion(text):\n",
    "    new_text = []\n",
    "    for w in text.split():\n",
    "        if w.upper() in chat_words:\n",
    "            new_text.append(chat_words[w.upper()])\n",
    "        else:\n",
    "            new_text.append(w)\n",
    "    return \" \".join(new_text)"
   ]
  },
  {
   "cell_type": "code",
   "execution_count": null,
   "metadata": {
    "execution": {
     "iopub.execute_input": "2021-12-08T20:27:43.943973Z",
     "iopub.status.busy": "2021-12-08T20:27:43.943069Z",
     "iopub.status.idle": "2021-12-08T20:27:43.949927Z",
     "shell.execute_reply": "2021-12-08T20:27:43.948991Z",
     "shell.execute_reply.started": "2021-12-08T20:27:43.94393Z"
    }
   },
   "outputs": [],
   "source": [
    "chat_conversion('IMHO he is the best')"
   ]
  },
  {
   "cell_type": "code",
   "execution_count": null,
   "metadata": {
    "execution": {
     "iopub.execute_input": "2021-12-08T20:27:50.00189Z",
     "iopub.status.busy": "2021-12-08T20:27:50.001509Z",
     "iopub.status.idle": "2021-12-08T20:27:50.006963Z",
     "shell.execute_reply": "2021-12-08T20:27:50.006143Z",
     "shell.execute_reply.started": "2021-12-08T20:27:50.001864Z"
    }
   },
   "outputs": [],
   "source": [
    "chat_conversion('FYI delhi is the capital of india')"
   ]
  },
  {
   "cell_type": "code",
   "execution_count": null,
   "metadata": {
    "execution": {
     "iopub.execute_input": "2021-12-08T20:43:56.991858Z",
     "iopub.status.busy": "2021-12-08T20:43:56.99156Z",
     "iopub.status.idle": "2021-12-08T20:43:58.636292Z",
     "shell.execute_reply": "2021-12-08T20:43:58.635444Z",
     "shell.execute_reply.started": "2021-12-08T20:43:56.991826Z"
    }
   },
   "outputs": [],
   "source": [
    "from textblob import TextBlob"
   ]
  },
  {
   "cell_type": "code",
   "execution_count": null,
   "metadata": {
    "execution": {
     "iopub.execute_input": "2021-12-08T20:45:03.889288Z",
     "iopub.status.busy": "2021-12-08T20:45:03.888211Z",
     "iopub.status.idle": "2021-12-08T20:45:03.901265Z",
     "shell.execute_reply": "2021-12-08T20:45:03.900308Z",
     "shell.execute_reply.started": "2021-12-08T20:45:03.889239Z"
    }
   },
   "outputs": [],
   "source": [
    "incorrect_text = 'ceertain conditionas duriing seveal ggenerations aree moodified in the saame maner.'\n",
    "\n",
    "textBlb = TextBlob(incorrect_text)\n",
    "\n",
    "textBlb.correct().string"
   ]
  },
  {
   "cell_type": "code",
   "execution_count": null,
   "metadata": {
    "execution": {
     "iopub.execute_input": "2021-12-08T21:01:00.674241Z",
     "iopub.status.busy": "2021-12-08T21:01:00.673954Z",
     "iopub.status.idle": "2021-12-08T21:01:00.678455Z",
     "shell.execute_reply": "2021-12-08T21:01:00.677834Z",
     "shell.execute_reply.started": "2021-12-08T21:01:00.67421Z"
    }
   },
   "outputs": [],
   "source": [
    "from nltk.corpus import stopwords"
   ]
  },
  {
   "cell_type": "code",
   "execution_count": null,
   "metadata": {
    "execution": {
     "iopub.execute_input": "2021-12-08T21:51:03.688191Z",
     "iopub.status.busy": "2021-12-08T21:51:03.687894Z",
     "iopub.status.idle": "2021-12-08T21:51:03.70028Z",
     "shell.execute_reply": "2021-12-08T21:51:03.698834Z",
     "shell.execute_reply.started": "2021-12-08T21:51:03.688159Z"
    }
   },
   "outputs": [],
   "source": [
    "stopwords.words('spanish')"
   ]
  },
  {
   "cell_type": "code",
   "execution_count": null,
   "metadata": {
    "execution": {
     "iopub.execute_input": "2021-12-08T21:11:12.348251Z",
     "iopub.status.busy": "2021-12-08T21:11:12.347842Z",
     "iopub.status.idle": "2021-12-08T21:11:12.354127Z",
     "shell.execute_reply": "2021-12-08T21:11:12.353513Z",
     "shell.execute_reply.started": "2021-12-08T21:11:12.34821Z"
    }
   },
   "outputs": [],
   "source": [
    "def remove_stopwords(text):\n",
    "    new_text = []\n",
    "    \n",
    "    for word in text.split():\n",
    "        if word in stopwords.words('english'):\n",
    "            new_text.append('')\n",
    "        else:\n",
    "            new_text.append(word)\n",
    "    x = new_text[:]\n",
    "    new_text.clear()\n",
    "    return \" \".join(x)"
   ]
  },
  {
   "cell_type": "code",
   "execution_count": null,
   "metadata": {
    "execution": {
     "iopub.execute_input": "2021-12-08T21:11:13.833512Z",
     "iopub.status.busy": "2021-12-08T21:11:13.833222Z",
     "iopub.status.idle": "2021-12-08T21:11:13.844653Z",
     "shell.execute_reply": "2021-12-08T21:11:13.843718Z",
     "shell.execute_reply.started": "2021-12-08T21:11:13.833484Z"
    }
   },
   "outputs": [],
   "source": [
    "remove_stopwords('probably my all-time favorite movie, a story of selflessness, sacrifice and dedication to a noble cause, but it\\'s not preachy or boring. it just never gets old, despite my having seen it some 15 or more times')"
   ]
  },
  {
   "cell_type": "code",
   "execution_count": null,
   "metadata": {
    "execution": {
     "iopub.execute_input": "2021-12-08T21:11:16.999954Z",
     "iopub.status.busy": "2021-12-08T21:11:16.999135Z",
     "iopub.status.idle": "2021-12-08T21:11:17.009246Z",
     "shell.execute_reply": "2021-12-08T21:11:17.00868Z",
     "shell.execute_reply.started": "2021-12-08T21:11:16.999916Z"
    }
   },
   "outputs": [],
   "source": [
    "df.head()"
   ]
  },
  {
   "cell_type": "code",
   "execution_count": null,
   "metadata": {
    "execution": {
     "iopub.execute_input": "2021-12-08T21:11:21.644149Z",
     "iopub.status.busy": "2021-12-08T21:11:21.643717Z",
     "iopub.status.idle": "2021-12-08T21:32:50.295058Z",
     "shell.execute_reply": "2021-12-08T21:32:50.294211Z",
     "shell.execute_reply.started": "2021-12-08T21:11:21.644112Z"
    }
   },
   "outputs": [],
   "source": [
    "df['review'].apply(remove_stopwords)"
   ]
  },
  {
   "cell_type": "code",
   "execution_count": null,
   "metadata": {},
   "outputs": [],
   "source": []
  },
  {
   "cell_type": "code",
   "execution_count": null,
   "metadata": {
    "execution": {
     "iopub.execute_input": "2021-12-09T06:36:47.342491Z",
     "iopub.status.busy": "2021-12-09T06:36:47.342185Z",
     "iopub.status.idle": "2021-12-09T06:36:47.347779Z",
     "shell.execute_reply": "2021-12-09T06:36:47.34681Z",
     "shell.execute_reply.started": "2021-12-09T06:36:47.342459Z"
    }
   },
   "outputs": [],
   "source": [
    "import re\n",
    "def remove_emoji(text):\n",
    "    emoji_pattern = re.compile(\"[\"\n",
    "                           u\"\\U0001F600-\\U0001F64F\"  # emoticons\n",
    "                           u\"\\U0001F300-\\U0001F5FF\"  # symbols & pictographs\n",
    "                           u\"\\U0001F680-\\U0001F6FF\"  # transport & map symbols\n",
    "                           u\"\\U0001F1E0-\\U0001F1FF\"  # flags (iOS)\n",
    "                           u\"\\U00002702-\\U000027B0\"\n",
    "                           u\"\\U000024C2-\\U0001F251\"\n",
    "                           \"]+\", flags=re.UNICODE)\n",
    "    return emoji_pattern.sub(r'', text)"
   ]
  },
  {
   "cell_type": "code",
   "execution_count": null,
   "metadata": {
    "execution": {
     "iopub.execute_input": "2021-12-09T06:41:39.472106Z",
     "iopub.status.busy": "2021-12-09T06:41:39.47184Z",
     "iopub.status.idle": "2021-12-09T06:41:39.478264Z",
     "shell.execute_reply": "2021-12-09T06:41:39.477363Z",
     "shell.execute_reply.started": "2021-12-09T06:41:39.472077Z"
    }
   },
   "outputs": [],
   "source": [
    "remove_emoji(\"Loved the movie. It was 😘😘\")"
   ]
  },
  {
   "cell_type": "code",
   "execution_count": null,
   "metadata": {
    "execution": {
     "iopub.execute_input": "2021-12-09T06:41:44.668991Z",
     "iopub.status.busy": "2021-12-09T06:41:44.668296Z",
     "iopub.status.idle": "2021-12-09T06:41:44.674004Z",
     "shell.execute_reply": "2021-12-09T06:41:44.673292Z",
     "shell.execute_reply.started": "2021-12-09T06:41:44.668952Z"
    }
   },
   "outputs": [],
   "source": [
    "remove_emoji(\"Lmao 😂😂\")"
   ]
  },
  {
   "cell_type": "code",
   "execution_count": null,
   "metadata": {
    "execution": {
     "iopub.execute_input": "2021-12-09T06:42:13.319769Z",
     "iopub.status.busy": "2021-12-09T06:42:13.319265Z",
     "iopub.status.idle": "2021-12-09T06:42:13.324864Z",
     "shell.execute_reply": "2021-12-09T06:42:13.324062Z",
     "shell.execute_reply.started": "2021-12-09T06:42:13.319732Z"
    }
   },
   "outputs": [],
   "source": [
    "import emoji\n",
    "print(emoji.demojize('Python is 🔥'))"
   ]
  },
  {
   "cell_type": "code",
   "execution_count": null,
   "metadata": {
    "execution": {
     "iopub.execute_input": "2021-12-09T06:42:20.986779Z",
     "iopub.status.busy": "2021-12-09T06:42:20.986399Z",
     "iopub.status.idle": "2021-12-09T06:42:20.992126Z",
     "shell.execute_reply": "2021-12-09T06:42:20.99145Z",
     "shell.execute_reply.started": "2021-12-09T06:42:20.98675Z"
    }
   },
   "outputs": [],
   "source": [
    "print(emoji.demojize('Loved the movie. It was 😘'))"
   ]
  },
  {
   "cell_type": "markdown",
   "metadata": {},
   "source": [
    "### 1. Using the split function"
   ]
  },
  {
   "cell_type": "code",
   "execution_count": null,
   "metadata": {
    "execution": {
     "iopub.execute_input": "2021-12-10T04:44:33.75667Z",
     "iopub.status.busy": "2021-12-10T04:44:33.755979Z",
     "iopub.status.idle": "2021-12-10T04:44:33.787127Z",
     "shell.execute_reply": "2021-12-10T04:44:33.786397Z",
     "shell.execute_reply.started": "2021-12-10T04:44:33.75656Z"
    }
   },
   "outputs": [],
   "source": [
    "# word tokenization\n",
    "sent1 = 'I am going to delhi'\n",
    "sent1.split()"
   ]
  },
  {
   "cell_type": "code",
   "execution_count": null,
   "metadata": {
    "execution": {
     "iopub.execute_input": "2021-12-10T04:45:55.578025Z",
     "iopub.status.busy": "2021-12-10T04:45:55.577298Z",
     "iopub.status.idle": "2021-12-10T04:45:55.583765Z",
     "shell.execute_reply": "2021-12-10T04:45:55.582916Z",
     "shell.execute_reply.started": "2021-12-10T04:45:55.577987Z"
    }
   },
   "outputs": [],
   "source": [
    "# sentence tokenization\n",
    "sent2 = 'I am going to delhi. I will stay there for 3 days. Let\\'s hope the trip to be great'\n",
    "sent2.split('.')"
   ]
  },
  {
   "cell_type": "code",
   "execution_count": null,
   "metadata": {
    "execution": {
     "iopub.execute_input": "2021-12-10T05:10:44.346272Z",
     "iopub.status.busy": "2021-12-10T05:10:44.345911Z",
     "iopub.status.idle": "2021-12-10T05:10:44.352546Z",
     "shell.execute_reply": "2021-12-10T05:10:44.351739Z",
     "shell.execute_reply.started": "2021-12-10T05:10:44.346237Z"
    }
   },
   "outputs": [],
   "source": [
    "# Problems with split function\n",
    "sent3 = 'I am going to delhi!'\n",
    "sent3.split()"
   ]
  },
  {
   "cell_type": "code",
   "execution_count": null,
   "metadata": {
    "execution": {
     "iopub.execute_input": "2021-12-10T04:49:30.558157Z",
     "iopub.status.busy": "2021-12-10T04:49:30.557836Z",
     "iopub.status.idle": "2021-12-10T04:49:30.565284Z",
     "shell.execute_reply": "2021-12-10T04:49:30.564127Z",
     "shell.execute_reply.started": "2021-12-10T04:49:30.558121Z"
    }
   },
   "outputs": [],
   "source": [
    "sent4 = 'Where do think I should go? I have 3 day holiday'\n",
    "sent4.split('.')"
   ]
  },
  {
   "cell_type": "markdown",
   "metadata": {},
   "source": [
    "### 2. Regular Expression"
   ]
  },
  {
   "cell_type": "code",
   "execution_count": null,
   "metadata": {
    "execution": {
     "iopub.execute_input": "2021-12-10T05:11:43.894008Z",
     "iopub.status.busy": "2021-12-10T05:11:43.892933Z",
     "iopub.status.idle": "2021-12-10T05:11:43.901551Z",
     "shell.execute_reply": "2021-12-10T05:11:43.900591Z",
     "shell.execute_reply.started": "2021-12-10T05:11:43.893954Z"
    }
   },
   "outputs": [],
   "source": [
    "import re\n",
    "sent3 = 'I am going to delhi!'\n",
    "tokens = re.findall(\"[\\w']+\", sent3)\n",
    "tokens"
   ]
  },
  {
   "cell_type": "code",
   "execution_count": null,
   "metadata": {
    "execution": {
     "iopub.execute_input": "2021-12-10T04:53:44.641066Z",
     "iopub.status.busy": "2021-12-10T04:53:44.640578Z",
     "iopub.status.idle": "2021-12-10T04:53:44.648281Z",
     "shell.execute_reply": "2021-12-10T04:53:44.647378Z",
     "shell.execute_reply.started": "2021-12-10T04:53:44.641018Z"
    }
   },
   "outputs": [],
   "source": [
    "\n",
    "text = \"\"\"Lorem Ipsum is simply dummy text of the printing and typesetting industry? \n",
    "Lorem Ipsum has been the industry's standard dummy text ever since the 1500s, \n",
    "when an unknown printer took a galley of type and scrambled it to make a type specimen book.\"\"\"\n",
    "sentences = re.compile('[.!?] ').split(text)\n",
    "sentences"
   ]
  },
  {
   "cell_type": "markdown",
   "metadata": {},
   "source": [
    "### 3. NLTK"
   ]
  },
  {
   "cell_type": "code",
   "execution_count": null,
   "metadata": {
    "execution": {
     "iopub.execute_input": "2021-12-10T06:02:59.227819Z",
     "iopub.status.busy": "2021-12-10T06:02:59.227483Z",
     "iopub.status.idle": "2021-12-10T06:02:59.837259Z",
     "shell.execute_reply": "2021-12-10T06:02:59.83643Z",
     "shell.execute_reply.started": "2021-12-10T06:02:59.227784Z"
    }
   },
   "outputs": [],
   "source": [
    "from nltk.tokenize import word_tokenize,sent_tokenize"
   ]
  },
  {
   "cell_type": "code",
   "execution_count": null,
   "metadata": {
    "execution": {
     "iopub.execute_input": "2021-12-10T06:03:00.241687Z",
     "iopub.status.busy": "2021-12-10T06:03:00.24139Z",
     "iopub.status.idle": "2021-12-10T06:03:00.264556Z",
     "shell.execute_reply": "2021-12-10T06:03:00.263798Z",
     "shell.execute_reply.started": "2021-12-10T06:03:00.241655Z"
    }
   },
   "outputs": [],
   "source": [
    "sent1 = 'I am going to visit delhi!'\n",
    "word_tokenize(sent1)"
   ]
  },
  {
   "cell_type": "code",
   "execution_count": null,
   "metadata": {
    "execution": {
     "iopub.execute_input": "2021-12-10T06:03:00.917544Z",
     "iopub.status.busy": "2021-12-10T06:03:00.915226Z",
     "iopub.status.idle": "2021-12-10T06:03:00.924761Z",
     "shell.execute_reply": "2021-12-10T06:03:00.923887Z",
     "shell.execute_reply.started": "2021-12-10T06:03:00.917502Z"
    }
   },
   "outputs": [],
   "source": [
    "text = \"\"\"Lorem Ipsum is simply dummy text of the printing and typesetting industry? \n",
    "Lorem Ipsum has been the industry's standard dummy text ever since the 1500s, \n",
    "when an unknown printer took a galley of type and scrambled it to make a type specimen book.\"\"\"\n",
    "\n",
    "sent_tokenize(text)"
   ]
  },
  {
   "cell_type": "code",
   "execution_count": null,
   "metadata": {
    "execution": {
     "iopub.execute_input": "2021-12-10T06:03:01.434559Z",
     "iopub.status.busy": "2021-12-10T06:03:01.43408Z",
     "iopub.status.idle": "2021-12-10T06:03:01.440415Z",
     "shell.execute_reply": "2021-12-10T06:03:01.439625Z",
     "shell.execute_reply.started": "2021-12-10T06:03:01.434523Z"
    }
   },
   "outputs": [],
   "source": [
    "sent5 = 'I have a Ph.D in A.I'\n",
    "sent6 = \"We're here to help! mail us at nks@gmail.com\"\n",
    "sent7 = 'A 5km ride cost $10.50'\n",
    "\n",
    "word_tokenize(sent5)"
   ]
  },
  {
   "cell_type": "code",
   "execution_count": null,
   "metadata": {
    "execution": {
     "iopub.execute_input": "2021-12-10T06:03:01.882224Z",
     "iopub.status.busy": "2021-12-10T06:03:01.881917Z",
     "iopub.status.idle": "2021-12-10T06:03:01.889139Z",
     "shell.execute_reply": "2021-12-10T06:03:01.888215Z",
     "shell.execute_reply.started": "2021-12-10T06:03:01.882192Z"
    }
   },
   "outputs": [],
   "source": [
    "word_tokenize(sent6)"
   ]
  },
  {
   "cell_type": "code",
   "execution_count": null,
   "metadata": {
    "execution": {
     "iopub.execute_input": "2021-12-10T06:03:02.310653Z",
     "iopub.status.busy": "2021-12-10T06:03:02.309928Z",
     "iopub.status.idle": "2021-12-10T06:03:02.316444Z",
     "shell.execute_reply": "2021-12-10T06:03:02.315765Z",
     "shell.execute_reply.started": "2021-12-10T06:03:02.310603Z"
    }
   },
   "outputs": [],
   "source": [
    "word_tokenize(sent7)"
   ]
  },
  {
   "cell_type": "markdown",
   "metadata": {},
   "source": [
    "### 4. Spacy"
   ]
  },
  {
   "cell_type": "code",
   "execution_count": null,
   "metadata": {
    "execution": {
     "iopub.execute_input": "2021-12-10T06:03:03.306838Z",
     "iopub.status.busy": "2021-12-10T06:03:03.30623Z",
     "iopub.status.idle": "2021-12-10T06:03:03.978703Z",
     "shell.execute_reply": "2021-12-10T06:03:03.977552Z",
     "shell.execute_reply.started": "2021-12-10T06:03:03.306798Z"
    }
   },
   "outputs": [],
   "source": [
    "import spacy\n",
    "nlp = spacy.load('en_core_web_sm')"
   ]
  },
  {
   "cell_type": "code",
   "execution_count": null,
   "metadata": {
    "execution": {
     "iopub.execute_input": "2021-12-10T06:03:04.01614Z",
     "iopub.status.busy": "2021-12-10T06:03:04.015537Z",
     "iopub.status.idle": "2021-12-10T06:03:04.051271Z",
     "shell.execute_reply": "2021-12-10T06:03:04.050575Z",
     "shell.execute_reply.started": "2021-12-10T06:03:04.01609Z"
    }
   },
   "outputs": [],
   "source": [
    "doc1 = nlp(sent5)\n",
    "doc2 = nlp(sent6)\n",
    "doc3 = nlp(sent7)\n",
    "doc4 = nlp(sent1)"
   ]
  },
  {
   "cell_type": "code",
   "execution_count": null,
   "metadata": {
    "execution": {
     "iopub.execute_input": "2021-12-10T06:03:42.944624Z",
     "iopub.status.busy": "2021-12-10T06:03:42.944056Z",
     "iopub.status.idle": "2021-12-10T06:03:42.952438Z",
     "shell.execute_reply": "2021-12-10T06:03:42.9513Z",
     "shell.execute_reply.started": "2021-12-10T06:03:42.944559Z"
    }
   },
   "outputs": [],
   "source": [
    "for token in doc4:\n",
    "    print(token)"
   ]
  },
  {
   "cell_type": "code",
   "execution_count": null,
   "metadata": {},
   "outputs": [],
   "source": []
  },
  {
   "cell_type": "code",
   "execution_count": null,
   "metadata": {},
   "outputs": [],
   "source": []
  },
  {
   "cell_type": "code",
   "execution_count": null,
   "metadata": {},
   "outputs": [],
   "source": []
  },
  {
   "cell_type": "code",
   "execution_count": null,
   "metadata": {
    "execution": {
     "iopub.execute_input": "2021-12-10T06:48:34.841005Z",
     "iopub.status.busy": "2021-12-10T06:48:34.840023Z",
     "iopub.status.idle": "2021-12-10T06:48:36.572437Z",
     "shell.execute_reply": "2021-12-10T06:48:36.571736Z",
     "shell.execute_reply.started": "2021-12-10T06:48:34.840888Z"
    }
   },
   "outputs": [],
   "source": [
    "from nltk.stem.porter import PorterStemmer"
   ]
  },
  {
   "cell_type": "code",
   "execution_count": null,
   "metadata": {
    "execution": {
     "iopub.execute_input": "2021-12-10T06:48:52.93496Z",
     "iopub.status.busy": "2021-12-10T06:48:52.934307Z",
     "iopub.status.idle": "2021-12-10T06:48:52.940919Z",
     "shell.execute_reply": "2021-12-10T06:48:52.940229Z",
     "shell.execute_reply.started": "2021-12-10T06:48:52.934905Z"
    }
   },
   "outputs": [],
   "source": [
    "ps = PorterStemmer()\n",
    "def stem_words(text):\n",
    "    return \" \".join([ps.stem(word) for word in text.split()])"
   ]
  },
  {
   "cell_type": "code",
   "execution_count": null,
   "metadata": {
    "execution": {
     "iopub.execute_input": "2021-12-10T06:49:01.365696Z",
     "iopub.status.busy": "2021-12-10T06:49:01.365203Z",
     "iopub.status.idle": "2021-12-10T06:49:01.37523Z",
     "shell.execute_reply": "2021-12-10T06:49:01.37406Z",
     "shell.execute_reply.started": "2021-12-10T06:49:01.365648Z"
    }
   },
   "outputs": [],
   "source": [
    "sample = \"walk walks walking walked\"\n",
    "stem_words(sample)"
   ]
  },
  {
   "cell_type": "code",
   "execution_count": null,
   "metadata": {
    "execution": {
     "iopub.execute_input": "2021-12-09T07:27:21.094383Z",
     "iopub.status.busy": "2021-12-09T07:27:21.094084Z",
     "iopub.status.idle": "2021-12-09T07:27:21.100345Z",
     "shell.execute_reply": "2021-12-09T07:27:21.099323Z",
     "shell.execute_reply.started": "2021-12-09T07:27:21.094352Z"
    }
   },
   "outputs": [],
   "source": [
    "text = 'probably my alltime favorite movie a story of selflessness sacrifice and dedication to a noble cause but its not preachy or boring it just never gets old despite my having seen it some 15 or more times in the last 25 years paul lukas performance brings tears to my eyes and bette davis in one of her very few truly sympathetic roles is a delight the kids are as grandma says more like dressedup midgets than children but that only makes them more fun to watch and the mothers slow awakening to whats happening in the world and under her own roof is believable and startling if i had a dozen thumbs theyd all be up for this movie'\n",
    "print(text)"
   ]
  },
  {
   "cell_type": "code",
   "execution_count": null,
   "metadata": {
    "execution": {
     "iopub.execute_input": "2021-12-09T07:27:23.992653Z",
     "iopub.status.busy": "2021-12-09T07:27:23.991771Z",
     "iopub.status.idle": "2021-12-09T07:27:24.003513Z",
     "shell.execute_reply": "2021-12-09T07:27:24.002522Z",
     "shell.execute_reply.started": "2021-12-09T07:27:23.992613Z"
    }
   },
   "outputs": [],
   "source": [
    "stem_words(text)"
   ]
  },
  {
   "cell_type": "code",
   "execution_count": null,
   "metadata": {
    "execution": {
     "iopub.execute_input": "2021-12-10T07:49:09.331787Z",
     "iopub.status.busy": "2021-12-10T07:49:09.331447Z",
     "iopub.status.idle": "2021-12-10T07:49:09.342678Z",
     "shell.execute_reply": "2021-12-10T07:49:09.341809Z",
     "shell.execute_reply.started": "2021-12-10T07:49:09.331757Z"
    }
   },
   "outputs": [],
   "source": [
    "import nltk\n",
    "from nltk.stem import WordNetLemmatizer\n",
    "wordnet_lemmatizer = WordNetLemmatizer()\n",
    "\n",
    "sentence = \"He was running and eating at same time. He has bad habit of swimming after playing long hours in the Sun.\"\n",
    "punctuations=\"?:!.,;\"\n",
    "sentence_words = nltk.word_tokenize(sentence)\n",
    "for word in sentence_words:\n",
    "    if word in punctuations:\n",
    "        sentence_words.remove(word)\n",
    "\n",
    "sentence_words\n",
    "print(\"{0:20}{1:20}\".format(\"Word\",\"Lemma\"))\n",
    "for word in sentence_words:\n",
    "    print (\"{0:20}{1:20}\".format(word,wordnet_lemmatizer.lemmatize(word,pos='v')))"
   ]
  },
  {
   "cell_type": "code",
   "execution_count": null,
   "metadata": {},
   "outputs": [],
   "source": []
  }
 ],
 "metadata": {
  "kaggle": {
   "accelerator": "none",
   "dataSources": [
    {
     "datasetId": 134715,
     "sourceId": 320111,
     "sourceType": "datasetVersion"
    }
   ],
   "dockerImageVersionId": 30152,
   "isGpuEnabled": false,
   "isInternetEnabled": false,
   "language": "python",
   "sourceType": "notebook"
  },
  "kernelspec": {
   "display_name": "Python 3 (ipykernel)",
   "language": "python",
   "name": "python3"
  },
  "language_info": {
   "codemirror_mode": {
    "name": "ipython",
    "version": 3
   },
   "file_extension": ".py",
   "mimetype": "text/x-python",
   "name": "python",
   "nbconvert_exporter": "python",
   "pygments_lexer": "ipython3",
   "version": "3.10.14"
  }
 },
 "nbformat": 4,
 "nbformat_minor": 4
}
